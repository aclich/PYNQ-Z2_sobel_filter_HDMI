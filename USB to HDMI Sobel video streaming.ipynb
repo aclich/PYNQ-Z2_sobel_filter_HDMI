{
 "cells": [
  {
   "cell_type": "code",
   "execution_count": 1,
   "metadata": {},
   "outputs": [
    {
     "data": {
      "application/javascript": [
       "\n",
       "require(['notebook/js/codecell'], function(codecell) {\n",
       "  codecell.CodeCell.options_default.highlight_modes[\n",
       "      'magic_text/x-csrc'] = {'reg':[/^%%microblaze/]};\n",
       "  Jupyter.notebook.events.one('kernel_ready.Kernel', function(){\n",
       "      Jupyter.notebook.get_cells().map(function(cell){\n",
       "          if (cell.cell_type == 'code'){ cell.auto_highlight(); } }) ;\n",
       "  });\n",
       "});\n"
      ]
     },
     "metadata": {},
     "output_type": "display_data"
    },
    {
     "data": {
      "text/plain": [
       "True"
      ]
     },
     "execution_count": 1,
     "metadata": {},
     "output_type": "execute_result"
    }
   ],
   "source": [
    "import cv2, time, warnings\n",
    "import numpy as np\n",
    "from pynq.lib.video import *\n",
    "warnings.filterwarnings('ignore')\n",
    "import pynq\n",
    "from pynq.overlays.base import BaseOverlay\n",
    "from pynq import Overlay\n",
    "from pynq import allocate\n",
    "\n",
    "overlay = BaseOverlay('base_w_sobel.bit')\n",
    "\n",
    "sobel = overlay.sobel_0\n",
    "dma = overlay.axi_dma_0\n",
    "\n",
    "def reset_all_dma():\n",
    "    def dma_reset(dma):\n",
    "        dma.sendchannel.stop()\n",
    "        dma.recvchannel.stop()\n",
    "        dma.sendchannel.start()\n",
    "        dma.recvchannel.start()\n",
    "    dma_reset(dma)\n",
    "reset_all_dma()\n",
    "\n",
    "resolution=(640,480)\n",
    "padd=int((max(resolution)-min(resolution))/2)\n",
    "recive_head=0+padd\n",
    "recive_tail=recive_head+min(resolution)\n",
    "buffer_shape=max(resolution)\n",
    "\n",
    "input_buffer = allocate(shape=(buffer_shape,buffer_shape), dtype=np.uint8)\n",
    "output_buffer = allocate(shape=(buffer_shape,buffer_shape), dtype=np.uint8)\n",
    "\n",
    "def run_sobel():\n",
    "    reset_all_dma()\n",
    "    dma.sendchannel.transfer(input_buffer)\n",
    "    dma.recvchannel.transfer(output_buffer)\n",
    "    sobel.write(0x10,buffer_shape)\n",
    "    sobel.write(0x18,buffer_shape)\n",
    "    sobel.write(0x00,0x81) #start訊號\n",
    "    dma.sendchannel.wait()\n",
    "    dma.recvchannel.wait()\n",
    "\n",
    "frame_in_w,frame_in_h = resolution\n",
    "cap = cv2.VideoCapture(0)\n",
    "cap.set(cv2.CAP_PROP_FRAME_WIDTH, frame_in_w);\n",
    "cap.set(cv2.CAP_PROP_FRAME_HEIGHT, frame_in_h);\n",
    "cap.isOpened()"
   ]
  },
  {
   "cell_type": "code",
   "execution_count": 3,
   "metadata": {},
   "outputs": [
    {
     "name": "stdout",
     "output_type": "stream",
     "text": [
      "Break signal...\n",
      "Frames per second: 23.001548488679344\n",
      "Number of read errors: 0\n"
     ]
    }
   ],
   "source": [
    "'''\n",
    "With PL accelerate\n",
    "'''\n",
    "frame_out_w,frame_out_h = resolution\n",
    "Mode = VideoMode(frame_out_w,frame_out_h,8)\n",
    "hdmi_out = overlay.video.hdmi_out\n",
    "hdmi_out.configure(Mode,PIXEL_GRAY)\n",
    "hdmi_out.start()\n",
    "\n",
    "start=time.time()\n",
    "num_frames=0\n",
    "readError=0\n",
    "while (overlay.buttons[3].read()==0):\n",
    "    fstime=time.time()\n",
    "    frame, image=cap.read()\n",
    "    if (frame):\n",
    "        #image=cv2.GaussianBlur(image,(3,3),0)\n",
    "        image=cv2.cvtColor(image,cv2.COLOR_BGR2GRAY)\n",
    "        image= cv2.copyMakeBorder(image,padd,padd,0,0,cv2.BORDER_CONSTANT,value=[0,0,0])\n",
    "        input_buffer[:,:] = image\n",
    "        run_sobel()\n",
    "        outframe=hdmi_out.newframe()\n",
    "        outframe=output_buffer[recive_head:recive_tail,:]\n",
    "        cv2.putText(outframe,\"FPS:\"+str(round(1/(time.time()-fstime),4)),(1,20),0,0.8,(255,255,255),1)\n",
    "        hdmi_out.writeframe(outframe)\n",
    "        num_frames+=1\n",
    "    else:\n",
    "        readError+=1\n",
    "end=time.time()\n",
    "print(\"Break signal...\")\n",
    "print(\"Frames per second: \" + str((num_frames-readError) / (end - start)))\n",
    "print(\"Number of read errors: \" + str(readError))"
   ]
  },
  {
   "cell_type": "code",
   "execution_count": 4,
   "metadata": {},
   "outputs": [
    {
     "name": "stdout",
     "output_type": "stream",
     "text": [
      "Break signal...\n",
      "Frames per second: 9.767277081689846\n",
      "Number of read errors: 0\n"
     ]
    }
   ],
   "source": [
    "'''\n",
    "Using OpenCV (without PL accelerate)\n",
    "'''\n",
    "frame_out_w,frame_out_h = resolution\n",
    "Mode = VideoMode(frame_out_w,frame_out_h,24)\n",
    "hdmi_out = overlay.video.hdmi_out\n",
    "hdmi_out.configure(Mode,PIXEL_BGR)\n",
    "hdmi_out.start()\n",
    "\n",
    "start=time.time()\n",
    "num_frames=0\n",
    "readError=0\n",
    "while (overlay.buttons[3].read()==0):\n",
    "    fstime=time.time()\n",
    "    ret, frame_vga = cap.read()\n",
    "    if (ret):\n",
    "        outframe = hdmi_out.newframe()\n",
    "        laplacian_frame = cv2.Laplacian(frame_vga, cv2.CV_8U,ksize=3, dst=outframe)\n",
    "        cv2.putText(outframe,\"FPS:\"+str(round(1/(time.time()-fstime),4)),(10,20),0,0.8,(255,255,255),1)\n",
    "        hdmi_out.writeframe(outframe)\n",
    "        num_frames+=1\n",
    "    else:\n",
    "        readError += 1\n",
    "end = time.time()\n",
    "#hdmi_out.close()\n",
    "print(\"Break signal...\")\n",
    "print(\"Frames per second: \" + str((num_frames-readError) / (end - start)))\n",
    "print(\"Number of read errors: \" + str(readError))"
   ]
  }
 ],
 "metadata": {
  "kernelspec": {
   "display_name": "Python 3",
   "language": "python",
   "name": "python3"
  },
  "language_info": {
   "codemirror_mode": {
    "name": "ipython",
    "version": 3
   },
   "file_extension": ".py",
   "mimetype": "text/x-python",
   "name": "python",
   "nbconvert_exporter": "python",
   "pygments_lexer": "ipython3",
   "version": "3.6.5"
  }
 },
 "nbformat": 4,
 "nbformat_minor": 2
}
